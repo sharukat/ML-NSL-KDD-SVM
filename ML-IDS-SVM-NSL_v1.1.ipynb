{
 "cells": [
  {
   "cell_type": "code",
   "execution_count": 1,
   "metadata": {},
   "outputs": [],
   "source": [
    "import numpy as np\n",
    "import pandas as pd\n",
    "import seaborn as sns\n",
    "from sklearn.svm import SVC\n",
    "import matplotlib.pyplot as plt\n",
    "from sklearn.decomposition import PCA\n",
    "from sklearn.pipeline import Pipeline\n",
    "from sklearn.model_selection import train_test_split\n",
    "from sklearn.preprocessing import StandardScaler\n",
    "from sklearn.preprocessing import MinMaxScaler\n",
    "from sklearn.preprocessing import OneHotEncoder\n",
    "from sklearn.preprocessing import LabelEncoder\n",
    "from sklearn.compose import make_column_transformer\n",
    "from sklearn.pipeline import make_pipeline\n",
    "from sklearn.model_selection import cross_val_score\n",
    "from sklearn.metrics import confusion_matrix\n",
    "from sklearn.metrics import classification_report\n",
    "from sklearn.metrics import accuracy_score\n",
    "from sklearn.model_selection import GridSearchCV"
   ]
  },
  {
   "cell_type": "code",
   "execution_count": 2,
   "metadata": {},
   "outputs": [],
   "source": [
    "def load_train_dataset():\n",
    "    df = pd.read_csv('csv_result-KDDTrain+.csv')\n",
    "    df_test = pd.read_csv('csv_result-KDDTest+.csv')\n",
    "    \n",
    "    data_set = pd.concat([df,df_test], axis=0,sort=False)\n",
    "    \n",
    "    data_set.drop(['num_outbound_cmds',\n",
    "          'is_host_login',\n",
    "          'urgent',\n",
    "          'id'], axis = 'columns' , inplace = True)\n",
    "    \n",
    "    data_set['class'] = data_set['class'].map( {'normal':0, 'anomaly':1} )\n",
    "    \n",
    "    limit = data_set.shape[1]-1\n",
    "    \n",
    "    X = data_set.iloc[:,0:limit]\n",
    "    Y = data_set.iloc[:,limit]\n",
    "    \n",
    "    return X, Y, data_set\n",
    "\n",
    "X, Y, data_set = load_train_dataset()"
   ]
  },
  {
   "cell_type": "code",
   "execution_count": 3,
   "metadata": {},
   "outputs": [
    {
     "data": {
      "text/html": [
       "<div>\n",
       "<style scoped>\n",
       "    .dataframe tbody tr th:only-of-type {\n",
       "        vertical-align: middle;\n",
       "    }\n",
       "\n",
       "    .dataframe tbody tr th {\n",
       "        vertical-align: top;\n",
       "    }\n",
       "\n",
       "    .dataframe thead th {\n",
       "        text-align: right;\n",
       "    }\n",
       "</style>\n",
       "<table border=\"1\" class=\"dataframe\">\n",
       "  <thead>\n",
       "    <tr style=\"text-align: right;\">\n",
       "      <th></th>\n",
       "      <th>duration</th>\n",
       "      <th>protocol_type</th>\n",
       "      <th>service</th>\n",
       "      <th>flag</th>\n",
       "      <th>src_bytes</th>\n",
       "      <th>dst_bytes</th>\n",
       "      <th>land</th>\n",
       "      <th>wrong_fragment</th>\n",
       "      <th>hot</th>\n",
       "      <th>num_failed_logins</th>\n",
       "      <th>...</th>\n",
       "      <th>dst_host_srv_count</th>\n",
       "      <th>dst_host_same_srv_rate</th>\n",
       "      <th>dst_host_diff_srv_rate</th>\n",
       "      <th>dst_host_same_src_port_rate</th>\n",
       "      <th>dst_host_srv_diff_host_rate</th>\n",
       "      <th>dst_host_serror_rate</th>\n",
       "      <th>dst_host_srv_serror_rate</th>\n",
       "      <th>dst_host_rerror_rate</th>\n",
       "      <th>dst_host_srv_rerror_rate</th>\n",
       "      <th>class</th>\n",
       "    </tr>\n",
       "  </thead>\n",
       "  <tbody>\n",
       "    <tr>\n",
       "      <th>0</th>\n",
       "      <td>0</td>\n",
       "      <td>tcp</td>\n",
       "      <td>ftp_data</td>\n",
       "      <td>SF</td>\n",
       "      <td>491</td>\n",
       "      <td>0</td>\n",
       "      <td>0</td>\n",
       "      <td>0</td>\n",
       "      <td>0</td>\n",
       "      <td>0</td>\n",
       "      <td>...</td>\n",
       "      <td>25</td>\n",
       "      <td>0.17</td>\n",
       "      <td>0.03</td>\n",
       "      <td>0.17</td>\n",
       "      <td>0.00</td>\n",
       "      <td>0.00</td>\n",
       "      <td>0.00</td>\n",
       "      <td>0.05</td>\n",
       "      <td>0.00</td>\n",
       "      <td>0</td>\n",
       "    </tr>\n",
       "    <tr>\n",
       "      <th>1</th>\n",
       "      <td>0</td>\n",
       "      <td>udp</td>\n",
       "      <td>other</td>\n",
       "      <td>SF</td>\n",
       "      <td>146</td>\n",
       "      <td>0</td>\n",
       "      <td>0</td>\n",
       "      <td>0</td>\n",
       "      <td>0</td>\n",
       "      <td>0</td>\n",
       "      <td>...</td>\n",
       "      <td>1</td>\n",
       "      <td>0.00</td>\n",
       "      <td>0.60</td>\n",
       "      <td>0.88</td>\n",
       "      <td>0.00</td>\n",
       "      <td>0.00</td>\n",
       "      <td>0.00</td>\n",
       "      <td>0.00</td>\n",
       "      <td>0.00</td>\n",
       "      <td>0</td>\n",
       "    </tr>\n",
       "    <tr>\n",
       "      <th>2</th>\n",
       "      <td>0</td>\n",
       "      <td>tcp</td>\n",
       "      <td>private</td>\n",
       "      <td>S0</td>\n",
       "      <td>0</td>\n",
       "      <td>0</td>\n",
       "      <td>0</td>\n",
       "      <td>0</td>\n",
       "      <td>0</td>\n",
       "      <td>0</td>\n",
       "      <td>...</td>\n",
       "      <td>26</td>\n",
       "      <td>0.10</td>\n",
       "      <td>0.05</td>\n",
       "      <td>0.00</td>\n",
       "      <td>0.00</td>\n",
       "      <td>1.00</td>\n",
       "      <td>1.00</td>\n",
       "      <td>0.00</td>\n",
       "      <td>0.00</td>\n",
       "      <td>1</td>\n",
       "    </tr>\n",
       "    <tr>\n",
       "      <th>3</th>\n",
       "      <td>0</td>\n",
       "      <td>tcp</td>\n",
       "      <td>http</td>\n",
       "      <td>SF</td>\n",
       "      <td>232</td>\n",
       "      <td>8153</td>\n",
       "      <td>0</td>\n",
       "      <td>0</td>\n",
       "      <td>0</td>\n",
       "      <td>0</td>\n",
       "      <td>...</td>\n",
       "      <td>255</td>\n",
       "      <td>1.00</td>\n",
       "      <td>0.00</td>\n",
       "      <td>0.03</td>\n",
       "      <td>0.04</td>\n",
       "      <td>0.03</td>\n",
       "      <td>0.01</td>\n",
       "      <td>0.00</td>\n",
       "      <td>0.01</td>\n",
       "      <td>0</td>\n",
       "    </tr>\n",
       "    <tr>\n",
       "      <th>4</th>\n",
       "      <td>0</td>\n",
       "      <td>tcp</td>\n",
       "      <td>http</td>\n",
       "      <td>SF</td>\n",
       "      <td>199</td>\n",
       "      <td>420</td>\n",
       "      <td>0</td>\n",
       "      <td>0</td>\n",
       "      <td>0</td>\n",
       "      <td>0</td>\n",
       "      <td>...</td>\n",
       "      <td>255</td>\n",
       "      <td>1.00</td>\n",
       "      <td>0.00</td>\n",
       "      <td>0.00</td>\n",
       "      <td>0.00</td>\n",
       "      <td>0.00</td>\n",
       "      <td>0.00</td>\n",
       "      <td>0.00</td>\n",
       "      <td>0.00</td>\n",
       "      <td>0</td>\n",
       "    </tr>\n",
       "    <tr>\n",
       "      <th>...</th>\n",
       "      <td>...</td>\n",
       "      <td>...</td>\n",
       "      <td>...</td>\n",
       "      <td>...</td>\n",
       "      <td>...</td>\n",
       "      <td>...</td>\n",
       "      <td>...</td>\n",
       "      <td>...</td>\n",
       "      <td>...</td>\n",
       "      <td>...</td>\n",
       "      <td>...</td>\n",
       "      <td>...</td>\n",
       "      <td>...</td>\n",
       "      <td>...</td>\n",
       "      <td>...</td>\n",
       "      <td>...</td>\n",
       "      <td>...</td>\n",
       "      <td>...</td>\n",
       "      <td>...</td>\n",
       "      <td>...</td>\n",
       "      <td>...</td>\n",
       "    </tr>\n",
       "    <tr>\n",
       "      <th>22539</th>\n",
       "      <td>0</td>\n",
       "      <td>tcp</td>\n",
       "      <td>smtp</td>\n",
       "      <td>SF</td>\n",
       "      <td>794</td>\n",
       "      <td>333</td>\n",
       "      <td>0</td>\n",
       "      <td>0</td>\n",
       "      <td>0</td>\n",
       "      <td>0</td>\n",
       "      <td>...</td>\n",
       "      <td>141</td>\n",
       "      <td>0.72</td>\n",
       "      <td>0.06</td>\n",
       "      <td>0.01</td>\n",
       "      <td>0.01</td>\n",
       "      <td>0.01</td>\n",
       "      <td>0.00</td>\n",
       "      <td>0.00</td>\n",
       "      <td>0.00</td>\n",
       "      <td>0</td>\n",
       "    </tr>\n",
       "    <tr>\n",
       "      <th>22540</th>\n",
       "      <td>0</td>\n",
       "      <td>tcp</td>\n",
       "      <td>http</td>\n",
       "      <td>SF</td>\n",
       "      <td>317</td>\n",
       "      <td>938</td>\n",
       "      <td>0</td>\n",
       "      <td>0</td>\n",
       "      <td>0</td>\n",
       "      <td>0</td>\n",
       "      <td>...</td>\n",
       "      <td>255</td>\n",
       "      <td>1.00</td>\n",
       "      <td>0.00</td>\n",
       "      <td>0.01</td>\n",
       "      <td>0.01</td>\n",
       "      <td>0.01</td>\n",
       "      <td>0.00</td>\n",
       "      <td>0.00</td>\n",
       "      <td>0.00</td>\n",
       "      <td>0</td>\n",
       "    </tr>\n",
       "    <tr>\n",
       "      <th>22541</th>\n",
       "      <td>0</td>\n",
       "      <td>tcp</td>\n",
       "      <td>http</td>\n",
       "      <td>SF</td>\n",
       "      <td>54540</td>\n",
       "      <td>8314</td>\n",
       "      <td>0</td>\n",
       "      <td>0</td>\n",
       "      <td>2</td>\n",
       "      <td>0</td>\n",
       "      <td>...</td>\n",
       "      <td>255</td>\n",
       "      <td>1.00</td>\n",
       "      <td>0.00</td>\n",
       "      <td>0.00</td>\n",
       "      <td>0.00</td>\n",
       "      <td>0.00</td>\n",
       "      <td>0.00</td>\n",
       "      <td>0.07</td>\n",
       "      <td>0.07</td>\n",
       "      <td>1</td>\n",
       "    </tr>\n",
       "    <tr>\n",
       "      <th>22542</th>\n",
       "      <td>0</td>\n",
       "      <td>udp</td>\n",
       "      <td>domain_u</td>\n",
       "      <td>SF</td>\n",
       "      <td>42</td>\n",
       "      <td>42</td>\n",
       "      <td>0</td>\n",
       "      <td>0</td>\n",
       "      <td>0</td>\n",
       "      <td>0</td>\n",
       "      <td>...</td>\n",
       "      <td>252</td>\n",
       "      <td>0.99</td>\n",
       "      <td>0.01</td>\n",
       "      <td>0.00</td>\n",
       "      <td>0.00</td>\n",
       "      <td>0.00</td>\n",
       "      <td>0.00</td>\n",
       "      <td>0.00</td>\n",
       "      <td>0.00</td>\n",
       "      <td>0</td>\n",
       "    </tr>\n",
       "    <tr>\n",
       "      <th>22543</th>\n",
       "      <td>0</td>\n",
       "      <td>tcp</td>\n",
       "      <td>sunrpc</td>\n",
       "      <td>REJ</td>\n",
       "      <td>0</td>\n",
       "      <td>0</td>\n",
       "      <td>0</td>\n",
       "      <td>0</td>\n",
       "      <td>0</td>\n",
       "      <td>0</td>\n",
       "      <td>...</td>\n",
       "      <td>21</td>\n",
       "      <td>0.08</td>\n",
       "      <td>0.03</td>\n",
       "      <td>0.00</td>\n",
       "      <td>0.00</td>\n",
       "      <td>0.00</td>\n",
       "      <td>0.00</td>\n",
       "      <td>0.44</td>\n",
       "      <td>1.00</td>\n",
       "      <td>1</td>\n",
       "    </tr>\n",
       "  </tbody>\n",
       "</table>\n",
       "<p>148517 rows × 39 columns</p>\n",
       "</div>"
      ],
      "text/plain": [
       "       duration protocol_type   service flag  src_bytes  dst_bytes  land  \\\n",
       "0             0           tcp  ftp_data   SF        491          0     0   \n",
       "1             0           udp     other   SF        146          0     0   \n",
       "2             0           tcp   private   S0          0          0     0   \n",
       "3             0           tcp      http   SF        232       8153     0   \n",
       "4             0           tcp      http   SF        199        420     0   \n",
       "...         ...           ...       ...  ...        ...        ...   ...   \n",
       "22539         0           tcp      smtp   SF        794        333     0   \n",
       "22540         0           tcp      http   SF        317        938     0   \n",
       "22541         0           tcp      http   SF      54540       8314     0   \n",
       "22542         0           udp  domain_u   SF         42         42     0   \n",
       "22543         0           tcp    sunrpc  REJ          0          0     0   \n",
       "\n",
       "       wrong_fragment  hot  num_failed_logins  ...  dst_host_srv_count  \\\n",
       "0                   0    0                  0  ...                  25   \n",
       "1                   0    0                  0  ...                   1   \n",
       "2                   0    0                  0  ...                  26   \n",
       "3                   0    0                  0  ...                 255   \n",
       "4                   0    0                  0  ...                 255   \n",
       "...               ...  ...                ...  ...                 ...   \n",
       "22539               0    0                  0  ...                 141   \n",
       "22540               0    0                  0  ...                 255   \n",
       "22541               0    2                  0  ...                 255   \n",
       "22542               0    0                  0  ...                 252   \n",
       "22543               0    0                  0  ...                  21   \n",
       "\n",
       "       dst_host_same_srv_rate  dst_host_diff_srv_rate  \\\n",
       "0                        0.17                    0.03   \n",
       "1                        0.00                    0.60   \n",
       "2                        0.10                    0.05   \n",
       "3                        1.00                    0.00   \n",
       "4                        1.00                    0.00   \n",
       "...                       ...                     ...   \n",
       "22539                    0.72                    0.06   \n",
       "22540                    1.00                    0.00   \n",
       "22541                    1.00                    0.00   \n",
       "22542                    0.99                    0.01   \n",
       "22543                    0.08                    0.03   \n",
       "\n",
       "       dst_host_same_src_port_rate  dst_host_srv_diff_host_rate  \\\n",
       "0                             0.17                         0.00   \n",
       "1                             0.88                         0.00   \n",
       "2                             0.00                         0.00   \n",
       "3                             0.03                         0.04   \n",
       "4                             0.00                         0.00   \n",
       "...                            ...                          ...   \n",
       "22539                         0.01                         0.01   \n",
       "22540                         0.01                         0.01   \n",
       "22541                         0.00                         0.00   \n",
       "22542                         0.00                         0.00   \n",
       "22543                         0.00                         0.00   \n",
       "\n",
       "       dst_host_serror_rate  dst_host_srv_serror_rate  dst_host_rerror_rate  \\\n",
       "0                      0.00                      0.00                  0.05   \n",
       "1                      0.00                      0.00                  0.00   \n",
       "2                      1.00                      1.00                  0.00   \n",
       "3                      0.03                      0.01                  0.00   \n",
       "4                      0.00                      0.00                  0.00   \n",
       "...                     ...                       ...                   ...   \n",
       "22539                  0.01                      0.00                  0.00   \n",
       "22540                  0.01                      0.00                  0.00   \n",
       "22541                  0.00                      0.00                  0.07   \n",
       "22542                  0.00                      0.00                  0.00   \n",
       "22543                  0.00                      0.00                  0.44   \n",
       "\n",
       "       dst_host_srv_rerror_rate  class  \n",
       "0                          0.00      0  \n",
       "1                          0.00      0  \n",
       "2                          0.00      1  \n",
       "3                          0.01      0  \n",
       "4                          0.00      0  \n",
       "...                         ...    ...  \n",
       "22539                      0.00      0  \n",
       "22540                      0.00      0  \n",
       "22541                      0.07      1  \n",
       "22542                      0.00      0  \n",
       "22543                      1.00      1  \n",
       "\n",
       "[148517 rows x 39 columns]"
      ]
     },
     "execution_count": 3,
     "metadata": {},
     "output_type": "execute_result"
    }
   ],
   "source": [
    "data_set"
   ]
  },
  {
   "cell_type": "code",
   "execution_count": 3,
   "metadata": {
    "scrolled": true
   },
   "outputs": [
    {
     "name": "stdout",
     "output_type": "stream",
     "text": [
      "Training X : (125973, 38)\n",
      "Test_X : (22544, 38)\n",
      "Training_Y : (125973,)\n",
      "Test_Y : (22544,)\n"
     ]
    }
   ],
   "source": [
    "train_X, test_X , train_Y , test_Y = train_test_split(X, Y, test_size=0.151794,shuffle=False)\n",
    "\n",
    "print('Training X :',train_X.shape)\n",
    "print('Test_X :',test_X.shape)\n",
    "print('Training_Y :',train_Y.shape)\n",
    "print('Test_Y :',test_Y.shape)"
   ]
  },
  {
   "cell_type": "code",
   "execution_count": 4,
   "metadata": {},
   "outputs": [
    {
     "name": "stdout",
     "output_type": "stream",
     "text": [
      "Training X   : (117784, 38)\n",
      "Validation X : (8189, 38)\n",
      "Test_X       : (22544, 38)\n",
      "Training_Y   : (117784,)\n",
      "Validation Y : (8189,)\n",
      "Test_Y       : (22544,)\n"
     ]
    }
   ],
   "source": [
    "train_X, val_X , train_Y , val_Y = train_test_split(train_X,train_Y, test_size=0.065,shuffle=False)\n",
    "\n",
    "print('Training X   :',train_X.shape)\n",
    "print('Validation X :',val_X.shape)\n",
    "print('Test_X       :',test_X.shape)\n",
    "print('Training_Y   :',train_Y.shape)\n",
    "print('Validation Y :',val_Y.shape)\n",
    "print('Test_Y       :',test_Y.shape)"
   ]
  },
  {
   "cell_type": "code",
   "execution_count": 5,
   "metadata": {},
   "outputs": [],
   "source": [
    "categorical_cols = ['protocol_type','flag','service']\n",
    "scale_cols = ['src_bytes','dst_bytes','wrong_fragment','duration','num_compromised','num_root',\n",
    "                        'hot','num_file_creations','count','srv_count','dst_host_count','dst_host_srv_count']"
   ]
  },
  {
   "cell_type": "code",
   "execution_count": 6,
   "metadata": {
    "scrolled": true
   },
   "outputs": [],
   "source": [
    "col_trans = make_column_transformer(\n",
    "    \n",
    "    (OneHotEncoder(handle_unknown='ignore'), categorical_cols),\n",
    "    (MinMaxScaler(feature_range = (-1,1)), scale_cols),\n",
    "    remainder='passthrough'\n",
    ")"
   ]
  },
  {
   "cell_type": "code",
   "execution_count": 7,
   "metadata": {},
   "outputs": [],
   "source": [
    "model = SVC(C= 20, gamma= 0.5)\n",
    "model_poly = SVC(C= 7, kernel= 'poly',degree=3)\n",
    "model_linear = SVC(C= 10, kernel= 'linear')"
   ]
  },
  {
   "cell_type": "markdown",
   "metadata": {},
   "source": [
    "## RBF Kernel Pipeline"
   ]
  },
  {
   "cell_type": "code",
   "execution_count": 8,
   "metadata": {},
   "outputs": [
    {
     "data": {
      "text/plain": [
       "Pipeline(steps=[('col_trans',\n",
       "                 ColumnTransformer(remainder='passthrough',\n",
       "                                   transformers=[('onehotencoder',\n",
       "                                                  OneHotEncoder(handle_unknown='ignore'),\n",
       "                                                  ['protocol_type', 'flag',\n",
       "                                                   'service']),\n",
       "                                                 ('minmaxscaler',\n",
       "                                                  MinMaxScaler(feature_range=(-1,\n",
       "                                                                              1)),\n",
       "                                                  ['src_bytes', 'dst_bytes',\n",
       "                                                   'wrong_fragment', 'duration',\n",
       "                                                   'num_compromised',\n",
       "                                                   'num_root', 'hot',\n",
       "                                                   'num_file_creations',\n",
       "                                                   'count', 'srv_count',\n",
       "                                                   'dst_host_count',\n",
       "                                                   'dst_host_srv_count'])])),\n",
       "                ('classifier_rbf', SVC(C=20, gamma=0.5))])"
      ]
     },
     "execution_count": 8,
     "metadata": {},
     "output_type": "execute_result"
    }
   ],
   "source": [
    "pipe_rbf = Pipeline([\n",
    "    ('col_trans',col_trans),\n",
    "    ('classifier_rbf',model),])\n",
    "\n",
    "pipe_rbf.fit(train_X,train_Y)"
   ]
  },
  {
   "cell_type": "code",
   "execution_count": 9,
   "metadata": {},
   "outputs": [
    {
     "name": "stdout",
     "output_type": "stream",
     "text": [
      "Train Accuracy = 99.75718263940773 %\n",
      "Cross Validation Accuracy = 99.76798143851508 %\n",
      "Accuracy Test = 81.888750887154 %\n"
     ]
    }
   ],
   "source": [
    "train_acc = pipe_rbf.score(train_X,train_Y)\n",
    "cv_acc = pipe_rbf.score(val_X,val_Y)\n",
    "test_predictions = pipe_rbf.predict(test_X)\n",
    "\n",
    "print('Train Accuracy = '+str(train_acc * 100)+' %')\n",
    "print('Cross Validation Accuracy = '+str(cv_acc * 100)+' %')\n",
    "print('Accuracy Test = '+ str(accuracy_score(test_Y, test_predictions)*100)+' %')"
   ]
  },
  {
   "cell_type": "markdown",
   "metadata": {},
   "source": [
    "## Poly Kernel Pipeline"
   ]
  },
  {
   "cell_type": "code",
   "execution_count": 10,
   "metadata": {},
   "outputs": [
    {
     "data": {
      "text/plain": [
       "Pipeline(steps=[('col_trans',\n",
       "                 ColumnTransformer(remainder='passthrough',\n",
       "                                   transformers=[('onehotencoder',\n",
       "                                                  OneHotEncoder(handle_unknown='ignore'),\n",
       "                                                  ['protocol_type', 'flag',\n",
       "                                                   'service']),\n",
       "                                                 ('minmaxscaler',\n",
       "                                                  MinMaxScaler(feature_range=(-1,\n",
       "                                                                              1)),\n",
       "                                                  ['src_bytes', 'dst_bytes',\n",
       "                                                   'wrong_fragment', 'duration',\n",
       "                                                   'num_compromised',\n",
       "                                                   'num_root', 'hot',\n",
       "                                                   'num_file_creations',\n",
       "                                                   'count', 'srv_count',\n",
       "                                                   'dst_host_count',\n",
       "                                                   'dst_host_srv_count'])])),\n",
       "                ('classifier_poly', SVC(C=7, kernel='poly'))])"
      ]
     },
     "execution_count": 10,
     "metadata": {},
     "output_type": "execute_result"
    }
   ],
   "source": [
    "pipe_poly = Pipeline([\n",
    "    ('col_trans',col_trans),\n",
    "    ('classifier_poly',model_poly)])\n",
    "\n",
    "pipe_poly.fit(train_X,train_Y)"
   ]
  },
  {
   "cell_type": "code",
   "execution_count": 11,
   "metadata": {},
   "outputs": [
    {
     "name": "stdout",
     "output_type": "stream",
     "text": [
      "Train Accuracy = 99.43625619778578 %\n",
      "Cross Validation Accuracy = 99.45048235437783 %\n",
      "Accuracy Test = 77.3553938963804 %\n"
     ]
    }
   ],
   "source": [
    "train_acc_poly = pipe_poly.score(train_X,train_Y)\n",
    "cv_predictions_acc_poly = pipe_poly.score(val_X,val_Y)\n",
    "test_predictions_poly = pipe_poly.predict(test_X)\n",
    "\n",
    "print('Train Accuracy = '+str(train_acc_poly * 100)+' %')\n",
    "print('Cross Validation Accuracy = '+str(cv_predictions_acc_poly * 100)+' %')\n",
    "print('Accuracy Test = '+ str(accuracy_score(test_Y, test_predictions_poly)*100)+' %')"
   ]
  },
  {
   "cell_type": "markdown",
   "metadata": {},
   "source": [
    "## Linear Kernel Pipeline"
   ]
  },
  {
   "cell_type": "code",
   "execution_count": 12,
   "metadata": {},
   "outputs": [
    {
     "data": {
      "text/plain": [
       "Pipeline(steps=[('col_trans',\n",
       "                 ColumnTransformer(remainder='passthrough',\n",
       "                                   transformers=[('onehotencoder',\n",
       "                                                  OneHotEncoder(handle_unknown='ignore'),\n",
       "                                                  ['protocol_type', 'flag',\n",
       "                                                   'service']),\n",
       "                                                 ('minmaxscaler',\n",
       "                                                  MinMaxScaler(feature_range=(-1,\n",
       "                                                                              1)),\n",
       "                                                  ['src_bytes', 'dst_bytes',\n",
       "                                                   'wrong_fragment', 'duration',\n",
       "                                                   'num_compromised',\n",
       "                                                   'num_root', 'hot',\n",
       "                                                   'num_file_creations',\n",
       "                                                   'count', 'srv_count',\n",
       "                                                   'dst_host_count',\n",
       "                                                   'dst_host_srv_count'])])),\n",
       "                ('classifier_linear', SVC(C=10, kernel='linear'))])"
      ]
     },
     "execution_count": 12,
     "metadata": {},
     "output_type": "execute_result"
    }
   ],
   "source": [
    "pipe_linear = Pipeline([\n",
    "    ('col_trans',col_trans),\n",
    "    ('classifier_linear',model_linear),])\n",
    "\n",
    "pipe_linear.fit(train_X,train_Y)"
   ]
  },
  {
   "cell_type": "code",
   "execution_count": 13,
   "metadata": {},
   "outputs": [
    {
     "name": "stdout",
     "output_type": "stream",
     "text": [
      "Train Accuracy = 97.6694627453644 %\n",
      "Cross Validation Accuracy = 97.4477958236659 %\n",
      "Accuracy Test = 75.66980127750178 %\n"
     ]
    }
   ],
   "source": [
    "train_acc_linear = pipe_linear.score(train_X,train_Y)\n",
    "cv_predictions_acc_linear = pipe_linear.score(val_X,val_Y)\n",
    "test_predictions_linear = pipe_linear.predict(test_X)\n",
    "\n",
    "print('Train Accuracy = '+str(train_acc_linear * 100)+' %')\n",
    "print('Cross Validation Accuracy = '+str(cv_predictions_acc_linear * 100)+' %')\n",
    "print('Accuracy Test = '+ str(accuracy_score(test_Y, test_predictions_linear)*100)+' %')"
   ]
  },
  {
   "cell_type": "code",
   "execution_count": 14,
   "metadata": {},
   "outputs": [
    {
     "data": {
      "text/plain": [
       "dict_keys(['memory', 'steps', 'verbose', 'col_trans', 'classifier_rbf', 'col_trans__n_jobs', 'col_trans__remainder', 'col_trans__sparse_threshold', 'col_trans__transformer_weights', 'col_trans__transformers', 'col_trans__verbose', 'col_trans__onehotencoder', 'col_trans__minmaxscaler', 'col_trans__onehotencoder__categories', 'col_trans__onehotencoder__drop', 'col_trans__onehotencoder__dtype', 'col_trans__onehotencoder__handle_unknown', 'col_trans__onehotencoder__sparse', 'col_trans__minmaxscaler__copy', 'col_trans__minmaxscaler__feature_range', 'classifier_rbf__C', 'classifier_rbf__break_ties', 'classifier_rbf__cache_size', 'classifier_rbf__class_weight', 'classifier_rbf__coef0', 'classifier_rbf__decision_function_shape', 'classifier_rbf__degree', 'classifier_rbf__gamma', 'classifier_rbf__kernel', 'classifier_rbf__max_iter', 'classifier_rbf__probability', 'classifier_rbf__random_state', 'classifier_rbf__shrinking', 'classifier_rbf__tol', 'classifier_rbf__verbose'])"
      ]
     },
     "execution_count": 14,
     "metadata": {},
     "output_type": "execute_result"
    }
   ],
   "source": [
    "pipe_rbf.get_params().keys()"
   ]
  },
  {
   "cell_type": "code",
   "execution_count": 15,
   "metadata": {},
   "outputs": [
    {
     "ename": "NameError",
     "evalue": "name 'pipe' is not defined",
     "output_type": "error",
     "traceback": [
      "\u001b[0;31m---------------------------------------------------------------------------\u001b[0m",
      "\u001b[0;31mNameError\u001b[0m                                 Traceback (most recent call last)",
      "\u001b[0;32m<ipython-input-15-a6b27dcb2867>\u001b[0m in \u001b[0;36m<module>\u001b[0;34m\u001b[0m\n\u001b[1;32m      6\u001b[0m \u001b[0;34m\u001b[0m\u001b[0m\n\u001b[1;32m      7\u001b[0m optimal_params = GridSearchCV(\n\u001b[0;32m----> 8\u001b[0;31m     \u001b[0mestimator\u001b[0m \u001b[0;34m=\u001b[0m \u001b[0mpipe\u001b[0m\u001b[0;34m,\u001b[0m\u001b[0;34m\u001b[0m\u001b[0;34m\u001b[0m\u001b[0m\n\u001b[0m\u001b[1;32m      9\u001b[0m     \u001b[0mparam_grid\u001b[0m \u001b[0;34m=\u001b[0m \u001b[0mparam_grid\u001b[0m\u001b[0;34m,\u001b[0m\u001b[0;34m\u001b[0m\u001b[0;34m\u001b[0m\u001b[0m\n\u001b[1;32m     10\u001b[0m     \u001b[0mscoring\u001b[0m \u001b[0;34m=\u001b[0m\u001b[0;34m'accuracy'\u001b[0m\u001b[0;34m,\u001b[0m\u001b[0;34m\u001b[0m\u001b[0;34m\u001b[0m\u001b[0m\n",
      "\u001b[0;31mNameError\u001b[0m: name 'pipe' is not defined"
     ]
    }
   ],
   "source": [
    "param_grid = [\n",
    "    {'classifier__gamma' : [0.45,0.5,0.51,0.52,0.53,0.54,0.55],\n",
    "     'classifier__C' : [15,16,17,18,19,20,21,22,23,24,25]\n",
    "    },\n",
    "]\n",
    "\n",
    "optimal_params = GridSearchCV(\n",
    "    estimator = pipe,\n",
    "    param_grid = param_grid,\n",
    "    scoring ='accuracy',\n",
    "    verbose = 0\n",
    ")\n",
    "\n",
    "optimal_params.fit(val_X,val_Y)\n",
    "print(optimal_params.best_params_)"
   ]
  },
  {
   "cell_type": "code",
   "execution_count": 16,
   "metadata": {},
   "outputs": [],
   "source": [
    "predictions = [test_predictions,test_predictions_poly,test_predictions_linear]\n",
    "kernel_names = ['RBF','Poly','Linear']\n",
    "\n",
    "def plot_cm(labels, predictions,kernel_names, p=0.85):\n",
    "    fig, axs = plt.subplots(nrows = 1,ncols = 3, figsize=(20, 5))\n",
    "    for i in range(0,3): \n",
    "        pred = predictions[i]\n",
    "        k_names = kernel_names[i]\n",
    "        cm = confusion_matrix(labels, pred > p)\n",
    "        sns.heatmap(cm, annot=True, fmt=\"d\",ax=axs[i])\n",
    "        axs[i].set(xlabel='Predicted label',ylabel='Actual label',title=str('Confusion matrix @{:.2f}'.format(p))+' '+ str(k_names))\n",
    "        \n",
    "        axs[i].text(0.3,2.6,'True Negatives  : '+ str(cm[0][0]),size=18)\n",
    "        axs[i].text(0.3,2.8,'False Positives   : '+ str(cm[0][1]),size=18)\n",
    "        axs[i].text(0.3,3,'False Negatives : '+ str(cm[1][0]),size=18)\n",
    "        axs[i].text(0.3,3.2,'True Positives    : '+ str(cm[1][1]),size=18)"
   ]
  },
  {
   "cell_type": "code",
   "execution_count": 17,
   "metadata": {},
   "outputs": [
    {
     "data": {
      "image/png": "[encoded data removed]",
      "text/plain": [
       "<Figure size 1440x360 with 6 Axes>"
      ]
     },
     "metadata": {
      "needs_background": "light"
     },
     "output_type": "display_data"
    }
   ],
   "source": [
    "plot_cm(test_Y, predictions,kernel_names)"
   ]
  },
  {
   "cell_type": "code",
   "execution_count": 18,
   "metadata": {},
   "outputs": [
    {
     "name": "stdout",
     "output_type": "stream",
     "text": [
      "              precision    recall  f1-score   support\n",
      "\n",
      "           0       0.71      0.97      0.82      9711\n",
      "           1       0.97      0.70      0.82     12833\n",
      "\n",
      "    accuracy                           0.82     22544\n",
      "   macro avg       0.84      0.84      0.82     22544\n",
      "weighted avg       0.86      0.82      0.82     22544\n",
      "\n"
     ]
    }
   ],
   "source": [
    "print(classification_report(test_Y, test_predictions))"
   ]
  },
  {
   "cell_type": "code",
   "execution_count": 19,
   "metadata": {},
   "outputs": [],
   "source": [
    "result = pd.DataFrame(col_trans.fit_transform(train_X))\n",
    "pca = PCA(n_components=2)\n",
    "principalComponents = pca.fit_transform(result)\n",
    "principalDf = pd.DataFrame(data = principalComponents, columns = ['PC1', 'PC2'])\n",
    "principal_Y = pd.DataFrame(train_Y)\n",
    "principal_Y ['class'] = principal_Y ['class'].map( {0:'normal', 1:'anomaly'} )\n",
    "finalDf = pd.concat([principalDf, principal_Y], axis = 1)"
   ]
  },
  {
   "cell_type": "code",
   "execution_count": 20,
   "metadata": {
    "scrolled": true
   },
   "outputs": [
    {
     "data": {
      "text/html": [
       "<div>\n",
       "<style scoped>\n",
       "    .dataframe tbody tr th:only-of-type {\n",
       "        vertical-align: middle;\n",
       "    }\n",
       "\n",
       "    .dataframe tbody tr th {\n",
       "        vertical-align: top;\n",
       "    }\n",
       "\n",
       "    .dataframe thead th {\n",
       "        text-align: right;\n",
       "    }\n",
       "</style>\n",
       "<table border=\"1\" class=\"dataframe\">\n",
       "  <thead>\n",
       "    <tr style=\"text-align: right;\">\n",
       "      <th></th>\n",
       "      <th>class</th>\n",
       "    </tr>\n",
       "  </thead>\n",
       "  <tbody>\n",
       "    <tr>\n",
       "      <th>0</th>\n",
       "      <td>normal</td>\n",
       "    </tr>\n",
       "    <tr>\n",
       "      <th>1</th>\n",
       "      <td>normal</td>\n",
       "    </tr>\n",
       "    <tr>\n",
       "      <th>2</th>\n",
       "      <td>anomaly</td>\n",
       "    </tr>\n",
       "    <tr>\n",
       "      <th>3</th>\n",
       "      <td>normal</td>\n",
       "    </tr>\n",
       "    <tr>\n",
       "      <th>4</th>\n",
       "      <td>normal</td>\n",
       "    </tr>\n",
       "    <tr>\n",
       "      <th>...</th>\n",
       "      <td>...</td>\n",
       "    </tr>\n",
       "    <tr>\n",
       "      <th>117779</th>\n",
       "      <td>normal</td>\n",
       "    </tr>\n",
       "    <tr>\n",
       "      <th>117780</th>\n",
       "      <td>anomaly</td>\n",
       "    </tr>\n",
       "    <tr>\n",
       "      <th>117781</th>\n",
       "      <td>anomaly</td>\n",
       "    </tr>\n",
       "    <tr>\n",
       "      <th>117782</th>\n",
       "      <td>anomaly</td>\n",
       "    </tr>\n",
       "    <tr>\n",
       "      <th>117783</th>\n",
       "      <td>normal</td>\n",
       "    </tr>\n",
       "  </tbody>\n",
       "</table>\n",
       "<p>117784 rows × 1 columns</p>\n",
       "</div>"
      ],
      "text/plain": [
       "          class\n",
       "0        normal\n",
       "1        normal\n",
       "2       anomaly\n",
       "3        normal\n",
       "4        normal\n",
       "...         ...\n",
       "117779   normal\n",
       "117780  anomaly\n",
       "117781  anomaly\n",
       "117782  anomaly\n",
       "117783   normal\n",
       "\n",
       "[117784 rows x 1 columns]"
      ]
     },
     "execution_count": 20,
     "metadata": {},
     "output_type": "execute_result"
    }
   ],
   "source": [
    "principal_Y"
   ]
  },
  {
   "cell_type": "code",
   "execution_count": 21,
   "metadata": {},
   "outputs": [
    {
     "data": {
      "image/png": "[encoded data removed]",
      "text/plain": [
       "<Figure size 576x576 with 1 Axes>"
      ]
     },
     "metadata": {
      "needs_background": "light"
     },
     "output_type": "display_data"
    }
   ],
   "source": [
    "\n",
    "fig = plt.figure(figsize = (8,8))\n",
    "ax = fig.add_subplot(1,1,1) \n",
    "ax.set_xlabel('PC1', fontsize = 15)\n",
    "ax.set_ylabel('PC2', fontsize = 15)\n",
    "ax.set_title('2 Component PCA', fontsize = 20)\n",
    "\n",
    "\n",
    "targets = ['normal', 'anomaly']\n",
    "colors = ['r', 'b']\n",
    "for target, color in zip(targets,colors):\n",
    "    indicesToKeep = finalDf['class'] == target\n",
    "    ax.scatter(finalDf.loc[indicesToKeep, 'PC1'], \n",
    "                  finalDf.loc[indicesToKeep, 'PC2'],  \n",
    "                  c = color, \n",
    "                  s = 50)\n",
    "ax.legend(targets)\n",
    "ax.grid()"
   ]
  }
 ],
 "metadata": {
  "kernelspec": {
   "display_name": "Python 3",
   "language": "python",
   "name": "python3"
  },
  "language_info": {
   "codemirror_mode": {
    "name": "ipython",
    "version": 3
   },
   "file_extension": ".py",
   "mimetype": "text/x-python",
   "name": "python",
   "nbconvert_exporter": "python",
   "pygments_lexer": "ipython3",
   "version": "3.8.6"
  }
 },
 "nbformat": 4,
 "nbformat_minor": 4
}
